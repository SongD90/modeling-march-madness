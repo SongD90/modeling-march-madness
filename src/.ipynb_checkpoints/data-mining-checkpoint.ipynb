{
 "cells": [
  {
   "cell_type": "markdown",
   "metadata": {},
   "source": [
    "# Data Mining and Feature Engineering\n",
    "\n",
    "Disclaimer: The following code was written in Python 3.5.2\n",
    "\n",
    "### Write raw html\n",
    "\n",
    "If you're writing and debugging code, store the data locally. There are two good reasons:\n",
    "1. Sending the same request to a server dozens or possibly hundreds of times puts unnecessary burden on their systems.\n",
    "2. It's faster to pull data from a local file."
   ]
  },
  {
   "cell_type": "code",
   "execution_count": 9,
   "metadata": {
    "collapsed": false
   },
   "outputs": [
    {
     "data": {
      "text/plain": [
       "{'Accept-Encoding': 'gzip, deflate', 'User-Agent': 'python-requests/2.10.0', 'Connection': 'keep-alive', 'Accept': '*/*'}"
      ]
     },
     "execution_count": 9,
     "metadata": {},
     "output_type": "execute_result"
    }
   ],
   "source": [
    "import requests\n",
    "\n",
    "s = requests.Session()\n",
    "s.headers"
   ]
  },
  {
   "cell_type": "markdown",
   "metadata": {},
   "source": [
    "### Load raw html and make soup"
   ]
  },
  {
   "cell_type": "code",
   "execution_count": 1,
   "metadata": {
    "collapsed": false
   },
   "outputs": [],
   "source": [
    "from bs4 import BeautifulSoup\n",
    "with open('./../html/today\\'s box scores.txt', 'rb') as raw_html:\n",
    "    soup = BeautifulSoup(raw_html.read().decode(), 'html.parser')\n"
   ]
  },
  {
   "cell_type": "markdown",
   "metadata": {},
   "source": [
    "### Collect team names and scores"
   ]
  },
  {
   "cell_type": "code",
   "execution_count": 2,
   "metadata": {
    "collapsed": false
   },
   "outputs": [
    {
     "data": {
      "text/plain": [
       "Team(name='Alcorn State', points='81', won=True)"
      ]
     },
     "execution_count": 2,
     "metadata": {},
     "output_type": "execute_result"
    }
   ],
   "source": [
    "from collections import namedtuple\n",
    "Team = namedtuple('Team', ('name', 'points', 'won'))\n",
    "\n",
    "game_summaries = soup.find(class_=\"game_summaries\").find_all('div', {\"class\":'game_summary nohover'})\n",
    "\n",
    "winner = game_summaries[0].find(class_='winner')\n",
    "team1 = winner.a.text.strip()\n",
    "team1_score = winner.find(class_='right').text.strip()\n",
    "Team(team1, team1_score, True)"
   ]
  },
  {
   "cell_type": "markdown",
   "metadata": {},
   "source": [
    "### Clean it up"
   ]
  },
  {
   "cell_type": "code",
   "execution_count": 3,
   "metadata": {
    "collapsed": false
   },
   "outputs": [
    {
     "name": "stdout",
     "output_type": "stream",
     "text": [
      "Alcorn State                81   70              Alabama A&M;\n",
      "Alabama State               79   65                  Southern\n",
      "Troy                        78   69      Arkansas-Little Rock\n",
      "Arkansas-Pine Bluff         71   68              Prairie View\n",
      "Arkansas State              74   62             South Alabama\n",
      "Norfolk State               74   64              Coppin State\n",
      "North Carolina State        84   82                      Duke\n",
      "Maryland-Eastern Shore      86   79              Florida A&M;\n",
      "Georgia Southern            91   80          Coastal Carolina\n",
      "Georgia State               83   72         Appalachian State\n",
      "Green Bay                   83   73           Cleveland State\n",
      "Holy Cross                  63   55                  American\n",
      "Iona                        84   74                Quinnipiac\n",
      "Mississippi Valley State   103   89            Texas Southern\n",
      "Niagara                     91   84                  Canisius\n",
      "North Carolina Central      74   39                    Howard\n",
      "Oklahoma State              89   76           Texas Christian\n",
      "Gonzaga                     83   64                  Portland\n",
      "St. Peter's                 56   51                     Rider\n",
      "Savannah State              94   79            Delaware State\n",
      "Morgan State                77   75      South Carolina State\n",
      "Texas                       84   83                  Oklahoma\n",
      "Texas-Arlington            108   71       Louisiana-Lafayette\n",
      "Texas State                 63   57          Louisiana-Monroe\n"
     ]
    }
   ],
   "source": [
    "from collections import namedtuple\n",
    "Team = namedtuple('Team', ('name', 'points', 'won'))\n",
    "\n",
    "def collect_teams(game_summary):\n",
    "    \"\"\"\n",
    "    Collect winning team data and losing team data.\n",
    "    Return winning team and losing team in namedtuple('Team', ('name', 'points', 'won'))\n",
    "    \"\"\"\n",
    "    team_data = game_summary.find(class_='winner')\n",
    "    winner = Team(name=team_data.a.text.strip(), \n",
    "                  points=team_data.find(class_='right').text.strip(), \n",
    "                  won=True)\n",
    "    team_data = game_summary.find(class_='loser')\n",
    "    loser = Team(name=team_data.a.text.strip(), \n",
    "                  points=team_data.find(class_='right').text.strip(), \n",
    "                  won=False)\n",
    "    return winner, loser\n",
    "\n",
    "for game in game_summaries:\n",
    "    winner, loser = collect_teams(game)\n",
    "    print(\"{:<25} {:>4} {:>4} {:>25}\".format(winner.name, winner.points, loser.points, loser.name))\n"
   ]
  },
  {
   "cell_type": "markdown",
   "metadata": {},
   "source": [
    "We're missing the date. That seems like valuable information we should hold onto.\n",
    "\n",
    "### Method 1\n",
    "Write a function to grab the date from each page."
   ]
  },
  {
   "cell_type": "code",
   "execution_count": 4,
   "metadata": {
    "collapsed": false
   },
   "outputs": [
    {
     "data": {
      "text/plain": [
       "('Jan', '23', '2017')"
      ]
     },
     "execution_count": 4,
     "metadata": {},
     "output_type": "execute_result"
    }
   ],
   "source": [
    "def get_date(soup):\n",
    "    \"\"\"\n",
    "    Collects date from html.\n",
    "    \"\"\"\n",
    "    raw = soup.find(class_=\"game_summaries\").h2.text.strip()\n",
    "    scores, date = raw.split('—')\n",
    "    month, day, year = date.strip().replace(',', '').split(' ')\n",
    "    return month, day, year\n",
    "get_date(soup)"
   ]
  },
  {
   "cell_type": "markdown",
   "metadata": {},
   "source": [
    "When you're about to do something difficult, remember: \n",
    "\n",
    "## DON'T\n",
    "\n",
    "**D**emands: Does my project require this?  \n",
    "**O**nline sources: Has someone else done it better?  \n",
    "**N**etwork: Are my friends smarter than me?  \n",
    "**T**ry something else.\n",
    "\n",
    "### Method 2\n",
    "\n",
    "Notice the URL takes date parameters.\n",
    "\n",
    "> http://www.sports-reference.com/cbb/boxscores/index.cgi?month=01&day=22&year=2017 \n",
    "\n",
    "We can just scrape the scores for a given date and use the date we specified. This solves the additional problem of navigating to other dates.\n",
    "\n",
    "Remember: DONT"
   ]
  },
  {
   "cell_type": "code",
   "execution_count": 5,
   "metadata": {
    "collapsed": false
   },
   "outputs": [
    {
     "name": "stdout",
     "output_type": "stream",
     "text": [
      "American Format:      http://www.sports-reference.com/cbb/boxscores/index.cgi?month=1&day=1&year=2017\n",
      "International Format: http://www.sports-reference.com/cbb/boxscores/index.cgi?year=2017&month=1&day=27\n"
     ]
    }
   ],
   "source": [
    "url = \"http://www.sports-reference.com/cbb/boxscores/index.cgi?month={}&day={}&year={}\"\n",
    "print('American Format:     ', url.format(1,1,2017))\n",
    "\n",
    "# we can even flip the parameters around to make our url less ambiguous for unamerican communists.\n",
    "url = \"http://www.sports-reference.com/cbb/boxscores/index.cgi?year={year}&month={month}&day={day}\"\n",
    "print(\"International Format:\", url.format(year=2017,month=1,day=27))"
   ]
  },
  {
   "cell_type": "markdown",
   "metadata": {},
   "source": [
    "# Let's Pull It All Together"
   ]
  },
  {
   "cell_type": "code",
   "execution_count": 6,
   "metadata": {
    "collapsed": false
   },
   "outputs": [
    {
     "name": "stdout",
     "output_type": "stream",
     "text": [
      "Team(name='Alcorn State', points='81', won=True)\n",
      "Team(name='Alabama A&M;', points='70', won=False)\n",
      "\n",
      "Team(name='Alabama State', points='79', won=True)\n",
      "Team(name='Southern', points='65', won=False)\n",
      "\n",
      "Team(name='Troy', points='78', won=True)\n",
      "Team(name='Arkansas-Little Rock', points='69', won=False)\n",
      "\n",
      "Team(name='Arkansas-Pine Bluff', points='71', won=True)\n",
      "Team(name='Prairie View', points='68', won=False)\n",
      "\n",
      "Team(name='Arkansas State', points='74', won=True)\n",
      "Team(name='South Alabama', points='62', won=False)\n",
      "\n",
      "Team(name='Norfolk State', points='74', won=True)\n",
      "Team(name='Coppin State', points='64', won=False)\n",
      "\n",
      "Team(name='North Carolina State', points='84', won=True)\n",
      "Team(name='Duke', points='82', won=False)\n",
      "\n",
      "Team(name='Maryland-Eastern Shore', points='86', won=True)\n",
      "Team(name='Florida A&M;', points='79', won=False)\n",
      "\n",
      "Team(name='Georgia Southern', points='91', won=True)\n",
      "Team(name='Coastal Carolina', points='80', won=False)\n",
      "\n",
      "Team(name='Georgia State', points='83', won=True)\n",
      "Team(name='Appalachian State', points='72', won=False)\n",
      "\n",
      "Team(name='Green Bay', points='83', won=True)\n",
      "Team(name='Cleveland State', points='73', won=False)\n",
      "\n",
      "Team(name='Holy Cross', points='63', won=True)\n",
      "Team(name='American', points='55', won=False)\n",
      "\n",
      "Team(name='Iona', points='84', won=True)\n",
      "Team(name='Quinnipiac', points='74', won=False)\n",
      "\n",
      "Team(name='Mississippi Valley State', points='103', won=True)\n",
      "Team(name='Texas Southern', points='89', won=False)\n",
      "\n",
      "Team(name='Niagara', points='91', won=True)\n",
      "Team(name='Canisius', points='84', won=False)\n",
      "\n",
      "Team(name='North Carolina Central', points='74', won=True)\n",
      "Team(name='Howard', points='39', won=False)\n",
      "\n",
      "Team(name='Oklahoma State', points='89', won=True)\n",
      "Team(name='Texas Christian', points='76', won=False)\n",
      "\n",
      "Team(name='Gonzaga', points='83', won=True)\n",
      "Team(name='Portland', points='64', won=False)\n",
      "\n",
      "Team(name=\"St. Peter's\", points='56', won=True)\n",
      "Team(name='Rider', points='51', won=False)\n",
      "\n",
      "Team(name='Savannah State', points='94', won=True)\n",
      "Team(name='Delaware State', points='79', won=False)\n",
      "\n",
      "Team(name='Morgan State', points='77', won=True)\n",
      "Team(name='South Carolina State', points='75', won=False)\n",
      "\n",
      "Team(name='Texas', points='84', won=True)\n",
      "Team(name='Oklahoma', points='83', won=False)\n",
      "\n",
      "Team(name='Texas-Arlington', points='108', won=True)\n",
      "Team(name='Louisiana-Lafayette', points='71', won=False)\n",
      "\n",
      "Team(name='Texas State', points='63', won=True)\n",
      "Team(name='Louisiana-Monroe', points='57', won=False)\n",
      "\n"
     ]
    }
   ],
   "source": [
    "for game_html in soup.find_all(class_='teams'):\n",
    "    winner, loser = collect_teams(game_html)\n",
    "    print(winner)\n",
    "    print(loser)\n",
    "    print()  # empty line for easier viewing"
   ]
  },
  {
   "cell_type": "markdown",
   "metadata": {
    "collapsed": true
   },
   "source": [
    "# Storing Data"
   ]
  },
  {
   "cell_type": "code",
   "execution_count": 7,
   "metadata": {
    "collapsed": false
   },
   "outputs": [
    {
     "data": {
      "text/plain": [
       "'3.5.2 |Anaconda 4.1.1 (64-bit)| (default, Jul  5 2016, 11:41:13) [MSC v.1900 64 bit (AMD64)]'"
      ]
     },
     "execution_count": 7,
     "metadata": {},
     "output_type": "execute_result"
    }
   ],
   "source": []
  },
  {
   "cell_type": "code",
   "execution_count": null,
   "metadata": {
    "collapsed": true
   },
   "outputs": [],
   "source": []
  }
 ],
 "metadata": {
  "anaconda-cloud": {},
  "kernelspec": {
   "display_name": "Python [Root]",
   "language": "python",
   "name": "Python [Root]"
  },
  "language_info": {
   "codemirror_mode": {
    "name": "ipython",
    "version": 3
   },
   "file_extension": ".py",
   "mimetype": "text/x-python",
   "name": "python",
   "nbconvert_exporter": "python",
   "pygments_lexer": "ipython3",
   "version": "3.5.2"
  }
 },
 "nbformat": 4,
 "nbformat_minor": 0
}
