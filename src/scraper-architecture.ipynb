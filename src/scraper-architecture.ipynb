{
 "cells": [
  {
   "cell_type": "markdown",
   "metadata": {},
   "source": [
    "# Scraper Architecture\n",
    "\n",
    "Python is an object-oriented programming (OOP) language. OOP is the industry standard ([for better or worse](https://en.wikipedia.org/wiki/Object-oriented_programming#Criticism)). Practice writing OOP until you know enough to know better. At the very least, you'll be easier to hire.\n",
    "\n",
    "Open `Scraper.py` alongside this tutorial."
   ]
  },
  {
   "cell_type": "code",
   "execution_count": 1,
   "metadata": {
    "collapsed": false
   },
   "outputs": [
    {
     "name": "stdout",
     "output_type": "stream",
     "text": [
      "The Zen of Python, by Tim Peters\n",
      "\n",
      "Beautiful is better than ugly.\n",
      "Explicit is better than implicit.\n",
      "Simple is better than complex.\n",
      "Complex is better than complicated.\n",
      "Flat is better than nested.\n",
      "Sparse is better than dense.\n",
      "Readability counts.\n",
      "Special cases aren't special enough to break the rules.\n",
      "Although practicality beats purity.\n",
      "Errors should never pass silently.\n",
      "Unless explicitly silenced.\n",
      "In the face of ambiguity, refuse the temptation to guess.\n",
      "There should be one-- and preferably only one --obvious way to do it.\n",
      "Although that way may not be obvious at first unless you're Dutch.\n",
      "Now is better than never.\n",
      "Although never is often better than *right* now.\n",
      "If the implementation is hard to explain, it's a bad idea.\n",
      "If the implementation is easy to explain, it may be a good idea.\n",
      "Namespaces are one honking great idea -- let's do more of those!\n"
     ]
    }
   ],
   "source": [
    "import this"
   ]
  },
  {
   "cell_type": "code",
   "execution_count": 41,
   "metadata": {
    "collapsed": false
   },
   "outputs": [
    {
     "name": "stdout",
     "output_type": "stream",
     "text": [
      "gamesheet:  http://www.sports-reference.com/cbb/boxscores/index.cgi?year=2017&month=2&day=5\n",
      "filepath:   ./../html/gamesheets/2017-2-5.txt\n",
      "\n",
      "gamesheet:  http://www.sports-reference.com/cbb/boxscores/index.cgi?year=2017&month=2&day=4\n",
      "filepath:   ./../html/gamesheets/2017-2-4.txt\n",
      "\n",
      "gamesheet:  http://www.sports-reference.com/cbb/boxscores/index.cgi?year=2017&month=2&day=3\n",
      "filepath:   ./../html/gamesheets/2017-2-3.txt\n",
      "\n",
      "gamesheet:  http://www.sports-reference.com/cbb/boxscores/index.cgi?year=2017&month=2&day=2\n",
      "filepath:   ./../html/gamesheets/2017-2-2.txt\n",
      "\n",
      "gamesheet:  http://www.sports-reference.com/cbb/boxscores/index.cgi?year=2017&month=2&day=1\n",
      "filepath:   ./../html/gamesheets/2017-2-1.txt\n",
      "\n"
     ]
    }
   ],
   "source": [
    "import datetime\n",
    "\n",
    "from Scraper import Scraper\n",
    "\n",
    "\n",
    "ROOT_URL = \"http://www.sports-reference.com/\"\n",
    "\n",
    "def make_dated_url(year, month, day):\n",
    "    \"\"\"Make absolute path to gamesheet for a given date. \n",
    "    \n",
    "    Arguments:\n",
    "        year (int) -- Year of gamesheet\n",
    "        month (int) -- Month of gamesheet\n",
    "        day (int) -- Day of gamesheet\n",
    "        \n",
    "    Returns:\n",
    "        str -- Absolute path to gamesheet for given date.\n",
    "        \n",
    "    Example:\n",
    "        > make_dated_url(2017, 2, 5)\n",
    "        \"http://www.sports-reference.com/cbb/boxscores/index.cgi?year=2017&month=2&day=5\"\n",
    "    \"\"\"\n",
    "    return ROOT_URL + \"cbb/boxscores/index.cgi?year={}&month={}&day={}\".format(year, month, day)\n",
    "\n",
    "def make_dated_filepath(year, month, day):\n",
    "    \"\"\"Make relative filepath to gamesheet for a given date. \n",
    "    \n",
    "    Arguments:\n",
    "        year (int) -- Year of gamesheet\n",
    "        month (int) -- Month of gamesheet\n",
    "        day (int) -- Day of gamesheet\n",
    "        \n",
    "    Returns:\n",
    "        str -- Relative filepath to gamesheet for given date.\n",
    "        \n",
    "    Example:\n",
    "        > make_dated_filepath(2017, 2, 5)\n",
    "        \"./../html/gamesheets/2017-2-5.txt\"\n",
    "    \"\"\"\n",
    "    return \"./../html/gamesheets/{}-{}-{}.txt\".format(year, month, day)\n",
    "\n",
    "date = datetime.datetime.now()\n",
    "one_day = datetime.timedelta(days=1)\n",
    "while date.year >= 2017 and date.month >= 2:\n",
    "    year, month, day = date.year, date.month, date.day\n",
    "    gamesheet_url = make_dated_url(year, month, day)\n",
    "    filepath = make_dated_filepath(year, month, day)\n",
    "    # scraper.write_html(gamesheet_url, filepath)\n",
    "    print(\"gamesheet: \", gamesheet_url)\n",
    "    print(\"filepath:  \", filepath)\n",
    "    print()\n",
    "    date -= one_day\n"
   ]
  },
  {
   "cell_type": "code",
   "execution_count": 12,
   "metadata": {
    "collapsed": false
   },
   "outputs": [
    {
     "data": {
      "text/plain": [
       "time.struct_time(tm_year=2017, tm_mon=2, tm_mday=5, tm_hour=17, tm_min=6, tm_sec=1, tm_wday=6, tm_yday=36, tm_isdst=0)"
      ]
     },
     "execution_count": 12,
     "metadata": {},
     "output_type": "execute_result"
    }
   ],
   "source": [
    "time.gmtime()"
   ]
  },
  {
   "cell_type": "code",
   "execution_count": 46,
   "metadata": {
    "collapsed": false
   },
   "outputs": [
    {
     "data": {
      "text/plain": [
       "True"
      ]
     },
     "execution_count": 46,
     "metadata": {},
     "output_type": "execute_result"
    }
   ],
   "source": [
    "datetime.datetime(year=1, month=1, day=1) <= datetime.datetime.now()"
   ]
  },
  {
   "cell_type": "code",
   "execution_count": null,
   "metadata": {
    "collapsed": true
   },
   "outputs": [],
   "source": []
  }
 ],
 "metadata": {
  "anaconda-cloud": {},
  "kernelspec": {
   "display_name": "Python [Root]",
   "language": "python",
   "name": "Python [Root]"
  },
  "language_info": {
   "codemirror_mode": {
    "name": "ipython",
    "version": 3
   },
   "file_extension": ".py",
   "mimetype": "text/x-python",
   "name": "python",
   "nbconvert_exporter": "python",
   "pygments_lexer": "ipython3",
   "version": "3.5.2"
  }
 },
 "nbformat": 4,
 "nbformat_minor": 0
}
